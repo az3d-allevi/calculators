{
  "nbformat": 4,
  "nbformat_minor": 0,
  "metadata": {
    "colab": {
      "provenance": [],
      "authorship_tag": "ABX9TyO/0eIdwI5vUtLO3yMQIZDE",
      "include_colab_link": true
    },
    "kernelspec": {
      "name": "python3",
      "display_name": "Python 3"
    },
    "language_info": {
      "name": "python"
    }
  },
  "cells": [
    {
      "cell_type": "markdown",
      "metadata": {
        "id": "view-in-github",
        "colab_type": "text"
      },
      "source": [
        "<a href=\"https://colab.research.google.com/github/az3d-allevi/calculators/blob/main/Calculators.ipynb\" target=\"_parent\"><img src=\"https://colab.research.google.com/assets/colab-badge.svg\" alt=\"Open In Colab\"/></a>"
      ]
    },
    {
      "cell_type": "markdown",
      "source": [
        "# Molarity Calculator"
      ],
      "metadata": {
        "id": "IAVfAvzOGxKQ"
      }
    },
    {
      "cell_type": "markdown",
      "source": [
        "### Mass from Volume and Concentration"
      ],
      "metadata": {
        "id": "eGtM_s0qG6oV"
      }
    },
    {
      "cell_type": "code",
      "execution_count": 1,
      "metadata": {
        "colab": {
          "base_uri": "https://localhost:8080/"
        },
        "id": "VmOxQGi_GvU0",
        "outputId": "7ea08691-5d4e-4ddd-85e2-8a484b68e3c7"
      },
      "outputs": [
        {
          "output_type": "stream",
          "name": "stdout",
          "text": [
            "Concentration (mM):4\n",
            "Formula Weight (daltons):359.06\n",
            "Volume (mL):0.02\n",
            "Weigh out 0.028724799999999998 mg\n"
          ]
        }
      ],
      "source": [
        "conc = float(input(\"Concentration (mM):\"))\n",
        "fw = float(input(\"Formula Weight (daltons):\"))\n",
        "v = float(input(\"Volume (mL):\"))\n",
        "\n",
        "m = (conc * v) * (fw * 0.001)\n",
        "print('Weigh out' , m , 'mg')"
      ]
    },
    {
      "cell_type": "markdown",
      "source": [
        "### Volume from Mass and Concentration"
      ],
      "metadata": {
        "id": "4JQfQYGyHYQu"
      }
    },
    {
      "cell_type": "code",
      "source": [
        "conc = float(input(\"Concentration (mM):\"))\n",
        "fw = float(input(\"Formula Weight (daltons):\"))\n",
        "m = float(input(\"Mass (mg):\"))\n",
        "\n",
        "v = m / (conc * fw * 0.001)\n",
        "print('Add' , v , 'mL')"
      ],
      "metadata": {
        "id": "d3A-5WtPHipf"
      },
      "execution_count": null,
      "outputs": []
    },
    {
      "cell_type": "markdown",
      "source": [
        "#Weight Percent (% w/v)"
      ],
      "metadata": {
        "id": "fZDnm3R4Hmwp"
      }
    },
    {
      "cell_type": "markdown",
      "source": [
        "###Mass from Volume"
      ],
      "metadata": {
        "id": "GhJnVrcsH1a8"
      }
    },
    {
      "cell_type": "code",
      "source": [
        "wt = float(input(\"Desired w/v %:\"))\n",
        "v = float(input(\"Volume (mL):\"))\n",
        "\n",
        "m = wt * 10 * v\n",
        "print('Weigh out' , m , 'mg')"
      ],
      "metadata": {
        "id": "0FIqxW_rH5H6"
      },
      "execution_count": null,
      "outputs": []
    },
    {
      "cell_type": "markdown",
      "source": [
        "###Volume from Mass"
      ],
      "metadata": {
        "id": "Pmio1f6jH-WW"
      }
    },
    {
      "cell_type": "code",
      "source": [
        "wt = float(input(\"Desired Weight %:\"))\n",
        "m = float(input(\"Mass (mg):\"))\n",
        "\n",
        "v = (m) / (wt * 10)\n",
        "print('Add' , v , 'mL')"
      ],
      "metadata": {
        "id": "KthyUqN5IHKp"
      },
      "execution_count": null,
      "outputs": []
    },
    {
      "cell_type": "markdown",
      "source": [
        "### Weight Percent from Mass and Volume"
      ],
      "metadata": {
        "id": "zJGgPJAXIJ9r"
      }
    },
    {
      "cell_type": "code",
      "source": [
        "m = float(input(\"Mass (mg):\"))\n",
        "v = float(input(\"Volume (mL):\"))\n",
        "\n",
        "wt = (m / v) / 10\n",
        "print(wt , '% w/v')"
      ],
      "metadata": {
        "id": "ooDrVGgsIOrm"
      },
      "execution_count": null,
      "outputs": []
    }
  ]
}