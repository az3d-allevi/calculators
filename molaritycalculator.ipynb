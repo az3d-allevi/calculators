{
 "cells": [
  {
   "cell_type": "code",
   "execution_count": 44,
   "id": "d44bd1cc",
   "metadata": {},
   "outputs": [],
   "source": [
    "import "
   ]
  },
  {
   "cell_type": "markdown",
   "id": "0f5f1daf",
   "metadata": {},
   "source": [
    "Molarity Calculator\n",
    "================\n"
   ]
  },
  {
   "cell_type": "markdown",
   "id": "5db73684",
   "metadata": {},
   "source": [
    "### Mass from Volume and Concentration"
   ]
  },
  {
   "cell_type": "code",
   "execution_count": 35,
   "id": "8789acae",
   "metadata": {},
   "outputs": [
    {
     "name": "stdout",
     "output_type": "stream",
     "text": [
      "Concentration (mM):100\n",
      "Formula Weight (daltons):10.01\n",
      "Volume (mL):5\n",
      "Weigh out 5.005 mg\n"
     ]
    }
   ],
   "source": [
    "conc = float(input(\"Concentration (mM):\"))\n",
    "fw = float(input(\"Formula Weight (daltons):\"))\n",
    "v = float(input(\"Volume (mL):\"))\n",
    "\n",
    "m = (conc * v) * (fw * 0.001)\n",
    "print('Weigh out' , m , 'mg')"
   ]
  },
  {
   "cell_type": "markdown",
   "id": "6123f1ac",
   "metadata": {},
   "source": [
    "### Volume from Mass and Concentration"
   ]
  },
  {
   "cell_type": "code",
   "execution_count": 28,
   "id": "860ff23d",
   "metadata": {},
   "outputs": [
    {
     "name": "stdout",
     "output_type": "stream",
     "text": [
      "Concentration (mM):100\n",
      "Formula Weight (daltons):10.01\n",
      "Mass (mg):5.005\n",
      "Add 4.999999999999999 mL\n"
     ]
    }
   ],
   "source": [
    "conc = float(input(\"Concentration (mM):\"))\n",
    "fw = float(input(\"Formula Weight (daltons):\"))\n",
    "m = float(input(\"Mass (mg):\"))\n",
    "\n",
    "v = m / (conc * fw * 0.001)\n",
    "print('Add' , v , 'mL')"
   ]
  },
  {
   "cell_type": "markdown",
   "id": "1cf81415",
   "metadata": {},
   "source": [
    "# Weight Percent (% w/v)"
   ]
  },
  {
   "cell_type": "code",
   "execution_count": 42,
   "id": "025fddf0",
   "metadata": {},
   "outputs": [],
   "source": [
    "import ipywidgets as widgets\n",
    "from IPython.display import display, clear_output"
   ]
  },
  {
   "cell_type": "markdown",
   "id": "a4eebc86",
   "metadata": {},
   "source": [
    "### Mass from Volume"
   ]
  },
  {
   "cell_type": "code",
   "execution_count": 40,
   "id": "6bd25462",
   "metadata": {},
   "outputs": [
    {
     "name": "stdout",
     "output_type": "stream",
     "text": [
      "Desired w/v %:4\n",
      "Volume (mL):10\n",
      "Weigh out 400.0 mg\n"
     ]
    }
   ],
   "source": [
    "wt = float(input(\"Desired w/v %:\"))\n",
    "v = float(input(\"Volume (mL):\"))\n",
    "\n",
    "m = wt * 10 * v\n",
    "print('Weigh out' , m , 'mg')"
   ]
  },
  {
   "cell_type": "markdown",
   "id": "c1f31345",
   "metadata": {},
   "source": [
    "### Volume from Mass"
   ]
  },
  {
   "cell_type": "code",
   "execution_count": 38,
   "id": "fb47e346",
   "metadata": {},
   "outputs": [
    {
     "name": "stdout",
     "output_type": "stream",
     "text": [
      "Desired Weight %:4\n",
      "Mass (mg):1\n",
      "Add 40.0 mL\n"
     ]
    }
   ],
   "source": [
    "wt = float(input(\"Desired Weight %:\"))\n",
    "m = float(input(\"Mass (mg):\"))\n",
    "\n",
    "v = (wt * 10) / m\n",
    "print('Add' , v , 'mL')"
   ]
  },
  {
   "cell_type": "markdown",
   "id": "87b24cce",
   "metadata": {},
   "source": [
    "### Weight Percent from Mass and Volume"
   ]
  },
  {
   "cell_type": "code",
   "execution_count": 37,
   "id": "6c6b44e2",
   "metadata": {},
   "outputs": [
    {
     "name": "stdout",
     "output_type": "stream",
     "text": [
      "Mass (mg):594\n",
      "Volume (mL):20\n",
      "2.9699999999999998 % w/v\n"
     ]
    }
   ],
   "source": [
    "m = float(input(\"Mass (mg):\"))\n",
    "v = float(input(\"Volume (mL):\"))\n",
    "\n",
    "wt = (m / v) / 10\n",
    "print(wt , '% w/v')"
   ]
  },
  {
   "cell_type": "code",
   "execution_count": null,
   "id": "c3184c50",
   "metadata": {},
   "outputs": [],
   "source": []
  }
 ],
 "metadata": {
  "kernelspec": {
   "display_name": "Python 3 (ipykernel)",
   "language": "python",
   "name": "python3"
  },
  "language_info": {
   "codemirror_mode": {
    "name": "ipython",
    "version": 3
   },
   "file_extension": ".py",
   "mimetype": "text/x-python",
   "name": "python",
   "nbconvert_exporter": "python",
   "pygments_lexer": "ipython3",
   "version": "3.9.12"
  }
 },
 "nbformat": 4,
 "nbformat_minor": 5
}
